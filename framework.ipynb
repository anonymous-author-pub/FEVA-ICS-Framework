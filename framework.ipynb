{
 "cells": [
  {
   "cell_type": "markdown",
   "metadata": {},
   "source": [
    "# Import Libraries"
   ]
  },
  {
   "cell_type": "code",
   "execution_count": 2,
   "metadata": {},
   "outputs": [
    {
     "name": "stderr",
     "output_type": "stream",
     "text": [
      "2025-04-23 18:05:40.650678: E external/local_xla/xla/stream_executor/cuda/cuda_fft.cc:485] Unable to register cuFFT factory: Attempting to register factory for plugin cuFFT when one has already been registered\n",
      "2025-04-23 18:05:40.669631: E external/local_xla/xla/stream_executor/cuda/cuda_dnn.cc:8454] Unable to register cuDNN factory: Attempting to register factory for plugin cuDNN when one has already been registered\n",
      "2025-04-23 18:05:40.674783: E external/local_xla/xla/stream_executor/cuda/cuda_blas.cc:1452] Unable to register cuBLAS factory: Attempting to register factory for plugin cuBLAS when one has already been registered\n",
      "2025-04-23 18:05:40.688043: I tensorflow/core/platform/cpu_feature_guard.cc:210] This TensorFlow binary is optimized to use available CPU instructions in performance-critical operations.\n",
      "To enable the following instructions: AVX2 FMA, in other operations, rebuild TensorFlow with the appropriate compiler flags.\n",
      "2025-04-23 18:05:41.820599: W tensorflow/compiler/tf2tensorrt/utils/py_utils.cc:38] TF-TRT Warning: Could not find TensorRT\n"
     ]
    }
   ],
   "source": [
    "import numpy as np\n",
    "import pandas as pd\n",
    "import random\n",
    "from sklearn.model_selection import train_test_split\n",
    "from sklearn.metrics import accuracy_score, recall_score, precision_score\n",
    "from tensorflow.keras.models import Sequential\n",
    "from tensorflow.keras.layers import Dense, Flatten, Dropout, BatchNormalization\n",
    "from tensorflow.keras.regularizers import l2\n",
    "from joblib import dump, load\n",
    "from tensorflow.keras.optimizers import Adam\n",
    "import tensorflow as tf\n",
    "from tensorflow.keras.models import Model\n",
    "from tensorflow.keras.layers import Input, LSTM\n",
    "import time\n",
    "from sklearn.metrics import confusion_matrix\n",
    "import seaborn as sns\n",
    "import matplotlib.pyplot as plt\n",
    "\n",
    "#import necessary lib for targeted NIDS\n",
    "import tensorflow as tf\n",
    "from scipy.signal import firwin, lfilter\n",
    "from sklearn.preprocessing import StandardScaler\n",
    "from sklearn.base import BaseEstimator, TransformerMixin\n",
    "from sklearn.preprocessing import StandardScaler\n",
    "from sklearn.pipeline import Pipeline\n",
    "from sklearn.naive_bayes import GaussianNB\n"
   ]
  },
  {
   "cell_type": "code",
   "execution_count": 3,
   "metadata": {},
   "outputs": [],
   "source": [
    "start_time = time.time()"
   ]
  },
  {
   "cell_type": "markdown",
   "metadata": {},
   "source": [
    "# Define Constants"
   ]
  },
  {
   "cell_type": "code",
   "execution_count": 4,
   "metadata": {},
   "outputs": [],
   "source": [
    "SEED = 42\n",
    "NUM_FEATURES = 51\n",
    "EPOCHS = 10\n",
    "TIMESTEPS = 60\n",
    "N = 60"
   ]
  },
  {
   "cell_type": "code",
   "execution_count": 5,
   "metadata": {},
   "outputs": [],
   "source": [
    "random.seed(SEED)\n",
    "tf.random.set_seed(SEED)"
   ]
  },
  {
   "cell_type": "markdown",
   "metadata": {},
   "source": [
    "# Set Parameters"
   ]
  },
  {
   "cell_type": "code",
   "execution_count": 6,
   "metadata": {},
   "outputs": [],
   "source": [
    "# set parameters\n",
    "epsilon_normal = 0.1\n",
    "epsilon_attack = 0.001\n",
    "k_normal = 40\n",
    "k_attack = 20\n",
    "alpha_normal_pgd = 0.01\n",
    "alpha_attack_pgd = 0.0001\n",
    "alpha_bb_normal = 0.1\n",
    "alpha_bb_attack = 0.01\n",
    "iterations = 10\n",
    "T = 100\n",
    "access = \"blackbox\"\n",
    "confidence = 0.5\n",
    "protected_cols = [2, 3, 4, 9, 10, 11, 12, 13, 14, 15, 19, 20, 21, 22, 23, 24, 29, 30, 31, 32, 33, 42, 43, 48, 49, 50]\n"
   ]
  },
  {
   "cell_type": "markdown",
   "metadata": {},
   "source": [
    "# Load Datasets"
   ]
  },
  {
   "cell_type": "code",
   "execution_count": 7,
   "metadata": {},
   "outputs": [],
   "source": [
    "# load datasets\n",
    "dataset = pd.read_csv('swat_dataset.csv')"
   ]
  },
  {
   "cell_type": "markdown",
   "metadata": {},
   "source": [
    "Dataset Split - for training and test of surrogate models"
   ]
  },
  {
   "cell_type": "code",
   "execution_count": 8,
   "metadata": {},
   "outputs": [],
   "source": [
    "sequences = [dataset.iloc[i:i + N] for i in range(0, len(dataset), N)]"
   ]
  },
  {
   "cell_type": "code",
   "execution_count": 9,
   "metadata": {},
   "outputs": [],
   "source": [
    "X_train, X_test = train_test_split(sequences, test_size=0.25, random_state=SEED)"
   ]
  },
  {
   "cell_type": "code",
   "execution_count": 10,
   "metadata": {},
   "outputs": [],
   "source": [
    "train = pd.concat(X_train).reset_index(drop=True)\n",
    "test = pd.concat(X_test).reset_index(drop=True)"
   ]
  },
  {
   "cell_type": "markdown",
   "metadata": {},
   "source": [
    "# Load Targeted NIDS Model"
   ]
  },
  {
   "cell_type": "code",
   "execution_count": 11,
   "metadata": {},
   "outputs": [],
   "source": [
    "# # load necessary classes for model\n",
    "class WindowTransformer(BaseEstimator, TransformerMixin):\n",
    "    def __init__(self, window_size=4):\n",
    "        self.window_size = window_size\n",
    "\n",
    "    def fit(self, X, y=None):\n",
    "        return self\n",
    "\n",
    "    def transform(self, X):\n",
    "        # Generate windows\n",
    "        test_averages = []\n",
    "        test_max_values = []\n",
    "        test_min_values = []\n",
    "        test_std_devs = []\n",
    "\n",
    "        for i in range(len(X) - self.window_size + 1):\n",
    "            window = X[i:i + self.window_size]\n",
    "            \n",
    "            # Extract features and compute statistics\n",
    "            window_avg = window.mean(axis=0)\n",
    "            window_max = window.max(axis=0)\n",
    "            window_min = window.min(axis=0)\n",
    "            window_std = window.std(axis=0)\n",
    "            \n",
    "            test_averages.append(window_avg)\n",
    "            test_max_values.append(window_max)\n",
    "            test_min_values.append(window_min)\n",
    "            test_std_devs.append(window_std)\n",
    "        \n",
    "        # Combine all features into a single array\n",
    "        features_merged = np.hstack((\n",
    "            np.array(test_averages), \n",
    "            np.array(test_max_values), \n",
    "            np.array(test_min_values), \n",
    "            np.array(test_std_devs)\n",
    "        ))\n",
    "\n",
    "        return features_merged"
   ]
  },
  {
   "cell_type": "code",
   "execution_count": 12,
   "metadata": {},
   "outputs": [
    {
     "name": "stderr",
     "output_type": "stream",
     "text": [
      "/home/advmlstudent/Documents/benchmark/ics-nids-robustness-benchmark/myenv/lib/python3.12/site-packages/sklearn/base.py:376: InconsistentVersionWarning: Trying to unpickle estimator StandardScaler from version 1.5.1 when using version 1.5.2. This might lead to breaking code or invalid results. Use at your own risk. For more info please refer to:\n",
      "https://scikit-learn.org/stable/model_persistence.html#security-maintainability-limitations\n",
      "  warnings.warn(\n",
      "/home/advmlstudent/Documents/benchmark/ics-nids-robustness-benchmark/myenv/lib/python3.12/site-packages/sklearn/base.py:376: InconsistentVersionWarning: Trying to unpickle estimator DecisionTreeClassifier from version 1.5.1 when using version 1.5.2. This might lead to breaking code or invalid results. Use at your own risk. For more info please refer to:\n",
      "https://scikit-learn.org/stable/model_persistence.html#security-maintainability-limitations\n",
      "  warnings.warn(\n",
      "/home/advmlstudent/Documents/benchmark/ics-nids-robustness-benchmark/myenv/lib/python3.12/site-packages/sklearn/base.py:376: InconsistentVersionWarning: Trying to unpickle estimator RandomForestClassifier from version 1.5.1 when using version 1.5.2. This might lead to breaking code or invalid results. Use at your own risk. For more info please refer to:\n",
      "https://scikit-learn.org/stable/model_persistence.html#security-maintainability-limitations\n",
      "  warnings.warn(\n",
      "/home/advmlstudent/Documents/benchmark/ics-nids-robustness-benchmark/myenv/lib/python3.12/site-packages/sklearn/base.py:376: InconsistentVersionWarning: Trying to unpickle estimator Pipeline from version 1.5.1 when using version 1.5.2. This might lead to breaking code or invalid results. Use at your own risk. For more info please refer to:\n",
      "https://scikit-learn.org/stable/model_persistence.html#security-maintainability-limitations\n",
      "  warnings.warn(\n"
     ]
    }
   ],
   "source": [
    "model = load('4_rf_swat.joblib')"
   ]
  },
  {
   "cell_type": "markdown",
   "metadata": {},
   "source": [
    "# Model Stealing Phase"
   ]
  },
  {
   "cell_type": "markdown",
   "metadata": {},
   "source": [
    "## Window and Stride Estimation"
   ]
  },
  {
   "cell_type": "code",
   "execution_count": 13,
   "metadata": {},
   "outputs": [
    {
     "name": "stdout",
     "output_type": "stream",
     "text": [
      "(Window Size, Stride): (4, 1)\n"
     ]
    }
   ],
   "source": [
    "def determine_window_stride(N, M):\n",
    "    \n",
    "    possible_values = []\n",
    "    for L in range(1, N + 1):  \n",
    "        for S in range(1, N): \n",
    "            if (N - L) % S == 0 and (N - L) / S + 1 == M:\n",
    "                possible_values.append((L, S))\n",
    "    return possible_values\n",
    "\n",
    "sample_sizes = [1000, 2000, 5000] \n",
    "all_results = []\n",
    "\n",
    "\n",
    "for N in sample_sizes:\n",
    "    M = model.predict(np.random.rand(N, NUM_FEATURES)).shape[0]  \n",
    "    results = determine_window_stride(N, M)\n",
    "    \n",
    "    all_results.append(set(results)) \n",
    "\n",
    "\n",
    "common_results = set.intersection(*all_results)\n",
    "\n",
    "if common_results:\n",
    "    window_dim = random.choice(list(common_results))\n",
    "    print(f\"(Window Size, Stride): {window_dim}\")\n",
    "else:\n",
    "    print(\"The datapoints are processed globally\")\n",
    "\n",
    "L = window_dim[0]\n",
    "S = window_dim[1]"
   ]
  },
  {
   "cell_type": "markdown",
   "metadata": {},
   "source": [
    "Dataset Preprocessing"
   ]
  },
  {
   "cell_type": "code",
   "execution_count": 14,
   "metadata": {},
   "outputs": [],
   "source": [
    "row_label = train[\"Normal/Attack\"]\n",
    "X_train = train.drop(columns=[\"Normal/Attack\"])\n",
    "X_train = np.array(X_train)\n",
    "\n",
    "y_gt_train = [max(row_label[i:i+L]) for i in range(0, len(row_label)-L+1, S)]\n",
    "y_gt_train = np.array(y_gt_train)"
   ]
  },
  {
   "cell_type": "code",
   "execution_count": 15,
   "metadata": {},
   "outputs": [],
   "source": [
    "X_dataset_normal_orig = dataset[dataset[\"Normal/Attack\"] == 0]  \n",
    "X_dataset_attack_orig = dataset[dataset[\"Normal/Attack\"] == 1] \n",
    "\n",
    "X_dataset_normal_orig = X_dataset_normal_orig.reset_index(drop=True)\n",
    "X_dataset_attack_orig = X_dataset_attack_orig.reset_index(drop=True)\n"
   ]
  },
  {
   "cell_type": "code",
   "execution_count": 16,
   "metadata": {},
   "outputs": [],
   "source": [
    "y_dataset_normal = X_dataset_normal_orig[\"Normal/Attack\"]\n",
    "X_dataset_normal_orig = X_dataset_normal_orig.drop(columns=[\"Normal/Attack\"])\n",
    "X_dataset_normal_orig = np.array(X_dataset_normal_orig)\n",
    "\n",
    "y_dataset_attack = X_dataset_attack_orig[\"Normal/Attack\"]\n",
    "X_dataset_attack_orig = X_dataset_attack_orig.drop(columns=[\"Normal/Attack\"])\n",
    "X_dataset_attack_orig = np.array(X_dataset_attack_orig)\n",
    "\n",
    "y_dataset = np.concatenate((y_dataset_normal, y_dataset_attack))\n"
   ]
  },
  {
   "cell_type": "code",
   "execution_count": 17,
   "metadata": {},
   "outputs": [],
   "source": [
    "y_gt_dataset_normal = np.zeros(int((X_dataset_normal_orig.shape[0] - L)/S + 1))  \n",
    "y_gt_dataset_attack = np.ones(int((X_dataset_attack_orig.shape[0] - L)/S + 1)) \n",
    "\n",
    "y_gt_dataset = np.concatenate((y_gt_dataset_normal, y_gt_dataset_attack))"
   ]
  },
  {
   "cell_type": "code",
   "execution_count": 18,
   "metadata": {},
   "outputs": [],
   "source": [
    "row_label2 = test[\"Normal/Attack\"]\n",
    "X_test = test.drop(columns=[\"Normal/Attack\"])\n",
    "X_test = np.array(X_test)\n",
    "\n",
    "y_gt_test = [max(row_label2[i:i+L]) for i in range(0, len(row_label2)-L+1, S)]\n",
    "y_gt_test = np.array(y_gt_test)"
   ]
  },
  {
   "cell_type": "markdown",
   "metadata": {},
   "source": [
    "Query-Response of NIDS (Model Stealing)"
   ]
  },
  {
   "cell_type": "code",
   "execution_count": 19,
   "metadata": {},
   "outputs": [],
   "source": [
    "y_pred_train = model.predict(X_train)\n",
    "y_pred_dataset_normal = model.predict(X_dataset_normal_orig)\n",
    "y_pred_dataset_attack = model.predict(X_dataset_attack_orig)"
   ]
  },
  {
   "cell_type": "code",
   "execution_count": 20,
   "metadata": {},
   "outputs": [],
   "source": [
    "y_pred_test = model.predict(X_test)"
   ]
  },
  {
   "cell_type": "code",
   "execution_count": 21,
   "metadata": {},
   "outputs": [],
   "source": [
    "y_pred_dataset = np.concatenate((y_pred_dataset_normal, y_pred_dataset_attack))"
   ]
  },
  {
   "cell_type": "markdown",
   "metadata": {},
   "source": [
    "### Original Model Performance"
   ]
  },
  {
   "cell_type": "code",
   "execution_count": 22,
   "metadata": {},
   "outputs": [
    {
     "name": "stdout",
     "output_type": "stream",
     "text": [
      "Original Model Performance\n",
      "Accuracy: 0.9848\n",
      "Recall: 0.9784\n",
      "Precision: 0.9044\n"
     ]
    }
   ],
   "source": [
    "print(\"Original Model Performance\")\n",
    "accuracy = accuracy_score(y_gt_dataset, y_pred_dataset)\n",
    "recall = recall_score(y_gt_dataset, y_pred_dataset, average='binary')  # Adjust `average` for multiclass\n",
    "precision = precision_score(y_gt_dataset, y_pred_dataset, average='binary')\n",
    "\n",
    "print(f\"Accuracy: {accuracy:.4f}\")\n",
    "print(f\"Recall: {recall:.4f}\")\n",
    "print(f\"Precision: {precision:.4f}\")\n",
    "\n"
   ]
  },
  {
   "cell_type": "code",
   "execution_count": 23,
   "metadata": {},
   "outputs": [
    {
     "data": {
      "image/png": "[encoded data removed]",
      "text/plain": [
       "<Figure size 640x480 with 1 Axes>"
      ]
     },
     "metadata": {},
     "output_type": "display_data"
    }
   ],
   "source": [
    "cm = confusion_matrix(y_gt_dataset, y_pred_dataset)\n",
    "sns.heatmap(cm, annot=True, fmt='d', cmap='Blues', cbar=False,\n",
    "            xticklabels=['Predicted 0', 'Predicted 1'], \n",
    "            yticklabels=['Actual 0', 'Actual 1'])\n",
    "\n",
    "plt.xlabel('Predicted')\n",
    "plt.ylabel('True')\n",
    "plt.title('Confusion Matrix')\n",
    "plt.show()\n"
   ]
  },
  {
   "cell_type": "markdown",
   "metadata": {},
   "source": [
    "Window Creation and Preprocessing for Surrogate model Training"
   ]
  },
  {
   "cell_type": "code",
   "execution_count": 24,
   "metadata": {},
   "outputs": [],
   "source": [
    "scaler = StandardScaler()\n",
    "X_train = scaler.fit_transform(X_train)\n",
    "X_test = scaler.transform(X_test)\n",
    "dataset_normal = scaler.transform(X_dataset_normal_orig)\n",
    "dataset_attack = scaler.transform(X_dataset_attack_orig)"
   ]
  },
  {
   "cell_type": "code",
   "execution_count": 25,
   "metadata": {},
   "outputs": [],
   "source": [
    "windows = []\n",
    "\n",
    "\n",
    "for i in range(0, len(X_train) - L + 1, S):\n",
    "    window = X_train[i:i + L]\n",
    "    windows.append(window)\n",
    "\n",
    "train_windows = np.array(windows)"
   ]
  },
  {
   "cell_type": "code",
   "execution_count": 26,
   "metadata": {},
   "outputs": [],
   "source": [
    "windows = []\n",
    "\n",
    "for i in range(0, len(X_test) - L + 1, S):\n",
    "    window = X_test[i:i + L]\n",
    "    windows.append(window)\n",
    "    \n",
    "test_windows = np.array(windows)\n"
   ]
  },
  {
   "cell_type": "markdown",
   "metadata": {},
   "source": [
    "## Surrogate Model"
   ]
  },
  {
   "cell_type": "markdown",
   "metadata": {},
   "source": [
    "### Surrogate Model 1 - MLP with 2 hidden layers"
   ]
  },
  {
   "cell_type": "code",
   "execution_count": 27,
   "metadata": {},
   "outputs": [],
   "source": [
    "start_time_sm1 = time.time()"
   ]
  },
  {
   "cell_type": "code",
   "execution_count": 28,
   "metadata": {},
   "outputs": [
    {
     "name": "stderr",
     "output_type": "stream",
     "text": [
      "/home/advmlstudent/Documents/benchmark/ics-nids-robustness-benchmark/myenv/lib/python3.12/site-packages/keras/src/layers/reshaping/flatten.py:37: UserWarning: Do not pass an `input_shape`/`input_dim` argument to a layer. When using Sequential models, prefer using an `Input(shape)` object as the first layer in the model instead.\n",
      "  super().__init__(**kwargs)\n",
      "2025-04-23 18:07:09.430520: I tensorflow/core/common_runtime/gpu/gpu_device.cc:2021] Created device /job:localhost/replica:0/task:0/device:GPU:0 with 9744 MB memory:  -> device: 0, name: NVIDIA GeForce RTX 2080 Ti, pci bus id: 0000:02:00.0, compute capability: 7.5\n"
     ]
    }
   ],
   "source": [
    "surrogate_model = Sequential([\n",
    "    Flatten(input_shape=(NUM_FEATURES, L)),      \n",
    "    Dense(128, activation='relu'),    \n",
    "    Dense(64, activation='relu'),     \n",
    "    Dense(1)                          \n",
    "])"
   ]
  },
  {
   "cell_type": "code",
   "execution_count": 29,
   "metadata": {},
   "outputs": [],
   "source": [
    "surrogate_model.compile(optimizer='adam',\n",
    "                        loss=tf.keras.losses.BinaryCrossentropy(from_logits=True),\n",
    "                        metrics=['accuracy'])"
   ]
  },
  {
   "cell_type": "code",
   "execution_count": 30,
   "metadata": {},
   "outputs": [
    {
     "name": "stdout",
     "output_type": "stream",
     "text": [
      "Epoch 1/10\n"
     ]
    },
    {
     "name": "stderr",
     "output_type": "stream",
     "text": [
      "WARNING: All log messages before absl::InitializeLog() is called are written to STDERR\n",
      "I0000 00:00:1745424432.079155  522708 service.cc:146] XLA service 0x704cb8004430 initialized for platform CUDA (this does not guarantee that XLA will be used). Devices:\n",
      "I0000 00:00:1745424432.079182  522708 service.cc:154]   StreamExecutor device (0): NVIDIA GeForce RTX 2080 Ti, Compute Capability 7.5\n",
      "2025-04-23 18:07:12.114190: I tensorflow/compiler/mlir/tensorflow/utils/dump_mlir_util.cc:268] disabling MLIR crash reproducer, set env var `MLIR_CRASH_REPRODUCER_DIRECTORY` to enable.\n",
      "2025-04-23 18:07:12.315389: I external/local_xla/xla/stream_executor/cuda/cuda_dnn.cc:531] Loaded cuDNN version 8907\n"
     ]
    },
    {
     "name": "stdout",
     "output_type": "stream",
     "text": [
      "\u001b[1m  84/8436\u001b[0m \u001b[37m━━━━━━━━━━━━━━━━━━━━\u001b[0m \u001b[1m15s\u001b[0m 2ms/step - accuracy: 0.9209 - loss: 0.2992 "
     ]
    },
    {
     "name": "stderr",
     "output_type": "stream",
     "text": [
      "I0000 00:00:1745424433.218298  522708 device_compiler.h:188] Compiled cluster using XLA!  This line is logged at most once for the lifetime of the process.\n"
     ]
    },
    {
     "name": "stdout",
     "output_type": "stream",
     "text": [
      "\u001b[1m8436/8436\u001b[0m \u001b[32m━━━━━━━━━━━━━━━━━━━━\u001b[0m\u001b[37m\u001b[0m \u001b[1m28s\u001b[0m 3ms/step - accuracy: 0.9763 - loss: 0.0788 - val_accuracy: 0.9822 - val_loss: 0.0769\n",
      "Epoch 2/10\n",
      "\u001b[1m8436/8436\u001b[0m \u001b[32m━━━━━━━━━━━━━━━━━━━━\u001b[0m\u001b[37m\u001b[0m \u001b[1m26s\u001b[0m 3ms/step - accuracy: 0.9874 - loss: 0.0393 - val_accuracy: 0.9825 - val_loss: 0.0665\n",
      "Epoch 3/10\n",
      "\u001b[1m8436/8436\u001b[0m \u001b[32m━━━━━━━━━━━━━━━━━━━━\u001b[0m\u001b[37m\u001b[0m \u001b[1m26s\u001b[0m 3ms/step - accuracy: 0.9885 - loss: 0.0349 - val_accuracy: 0.9830 - val_loss: 0.0697\n",
      "Epoch 4/10\n",
      "\u001b[1m8436/8436\u001b[0m \u001b[32m━━━━━━━━━━━━━━━━━━━━\u001b[0m\u001b[37m\u001b[0m \u001b[1m25s\u001b[0m 3ms/step - accuracy: 0.9891 - loss: 0.0319 - val_accuracy: 0.9822 - val_loss: 0.0633\n",
      "Epoch 5/10\n",
      "\u001b[1m8436/8436\u001b[0m \u001b[32m━━━━━━━━━━━━━━━━━━━━\u001b[0m\u001b[37m\u001b[0m \u001b[1m26s\u001b[0m 3ms/step - accuracy: 0.9896 - loss: 0.0298 - val_accuracy: 0.9825 - val_loss: 0.0579\n",
      "Epoch 6/10\n",
      "\u001b[1m8436/8436\u001b[0m \u001b[32m━━━━━━━━━━━━━━━━━━━━\u001b[0m\u001b[37m\u001b[0m \u001b[1m26s\u001b[0m 3ms/step - accuracy: 0.9897 - loss: 0.0294 - val_accuracy: 0.9815 - val_loss: 0.0613\n",
      "Epoch 7/10\n",
      "\u001b[1m8436/8436\u001b[0m \u001b[32m━━━━━━━━━━━━━━━━━━━━\u001b[0m\u001b[37m\u001b[0m \u001b[1m26s\u001b[0m 3ms/step - accuracy: 0.9899 - loss: 0.0279 - val_accuracy: 0.9813 - val_loss: 0.0654\n",
      "Epoch 8/10\n",
      "\u001b[1m8436/8436\u001b[0m \u001b[32m━━━━━━━━━━━━━━━━━━━━\u001b[0m\u001b[37m\u001b[0m \u001b[1m26s\u001b[0m 3ms/step - accuracy: 0.9899 - loss: 0.0272 - val_accuracy: 0.9806 - val_loss: 0.0681\n",
      "Epoch 9/10\n",
      "\u001b[1m8436/8436\u001b[0m \u001b[32m━━━━━━━━━━━━━━━━━━━━\u001b[0m\u001b[37m\u001b[0m \u001b[1m25s\u001b[0m 3ms/step - accuracy: 0.9902 - loss: 0.0271 - val_accuracy: 0.9806 - val_loss: 0.0695\n",
      "Epoch 10/10\n",
      "\u001b[1m8436/8436\u001b[0m \u001b[32m━━━━━━━━━━━━━━━━━━━━\u001b[0m\u001b[37m\u001b[0m \u001b[1m26s\u001b[0m 3ms/step - accuracy: 0.9903 - loss: 0.0263 - val_accuracy: 0.9825 - val_loss: 0.0613\n"
     ]
    },
    {
     "data": {
      "text/plain": [
       "<keras.src.callbacks.history.History at 0x704e372de540>"
      ]
     },
     "execution_count": 30,
     "metadata": {},
     "output_type": "execute_result"
    }
   ],
   "source": [
    "surrogate_model.fit(\n",
    "    train_windows, y_pred_train,\n",
    "    epochs=EPOCHS,            # Number of epochs\n",
    "    batch_size=32,        # Batch size\n",
    "    validation_split=0.2, # Validation split\n",
    "    verbose=1             # Verbosity level\n",
    ")"
   ]
  },
  {
   "cell_type": "code",
   "execution_count": 31,
   "metadata": {},
   "outputs": [
    {
     "name": "stdout",
     "output_type": "stream",
     "text": [
      "\u001b[1m3516/3516\u001b[0m \u001b[32m━━━━━━━━━━━━━━━━━━━━\u001b[0m\u001b[37m\u001b[0m \u001b[1m8s\u001b[0m 2ms/step\n"
     ]
    }
   ],
   "source": [
    "logits1 = surrogate_model.predict(test_windows)\n",
    "probabilities1 = tf.sigmoid(logits1).numpy()\n",
    "\n",
    "# Convert to binary labels (0 or 1)\n",
    "y_pred = (probabilities1 > 0.5).astype(int).flatten()"
   ]
  },
  {
   "cell_type": "code",
   "execution_count": 32,
   "metadata": {},
   "outputs": [
    {
     "name": "stdout",
     "output_type": "stream",
     "text": [
      "Surrogate model 1 Performance\n",
      "Accuracy: 0.9665\n",
      "Recall: 0.8890\n",
      "Precision: 0.9649\n",
      "Fidelity: 0.9830\n"
     ]
    }
   ],
   "source": [
    "accuracy = accuracy_score(y_gt_test, y_pred)\n",
    "recall = recall_score(y_gt_test, y_pred, average='binary')  # Adjust `average` for multiclass\n",
    "precision = precision_score(y_gt_test, y_pred, average='binary')\n",
    "fidelity = accuracy_score(y_pred_test, y_pred)\n",
    "print(\"Surrogate model 1 Performance\")\n",
    "print(f\"Accuracy: {accuracy:.4f}\")\n",
    "print(f\"Recall: {recall:.4f}\")\n",
    "print(f\"Precision: {precision:.4f}\")\n",
    "print(f\"Fidelity: {fidelity:.4f}\")"
   ]
  },
  {
   "cell_type": "code",
   "execution_count": 33,
   "metadata": {},
   "outputs": [
    {
     "data": {
      "image/png": "[encoded data removed]",
      "text/plain": [
       "<Figure size 640x480 with 1 Axes>"
      ]
     },
     "metadata": {},
     "output_type": "display_data"
    }
   ],
   "source": [
    "cm_sm1 = confusion_matrix(y_gt_test, y_pred)\n",
    "sns.heatmap(cm_sm1, annot=True, fmt='d', cmap='Blues', cbar=False,\n",
    "            xticklabels=['Predicted 0', 'Predicted 1'], \n",
    "            yticklabels=['Actual 0', 'Actual 1'])\n",
    "\n",
    "plt.xlabel('Predicted')\n",
    "plt.ylabel('True')\n",
    "plt.title('Confusion Matrix')\n",
    "plt.show()\n",
    "\n",
    "selected_model = surrogate_model"
   ]
  },
  {
   "cell_type": "code",
   "execution_count": 34,
   "metadata": {},
   "outputs": [
    {
     "name": "stdout",
     "output_type": "stream",
     "text": [
      "Execution Time For Surrogate Model 1: 272.321170091629 seconds\n"
     ]
    }
   ],
   "source": [
    "end_time_sm1 = time.time()\n",
    "\n",
    "print(f\"Execution Time For Surrogate Model 1: {end_time_sm1 - start_time_sm1} seconds\")"
   ]
  },
  {
   "cell_type": "markdown",
   "metadata": {},
   "source": [
    "### Surrogate Model 2 - MLP with 4 hidden layers, regularisation and dropout"
   ]
  },
  {
   "cell_type": "code",
   "execution_count": 35,
   "metadata": {},
   "outputs": [],
   "source": [
    "start_time_sm2 = time.time()"
   ]
  },
  {
   "cell_type": "code",
   "execution_count": 36,
   "metadata": {},
   "outputs": [
    {
     "name": "stderr",
     "output_type": "stream",
     "text": [
      "/home/advmlstudent/Documents/benchmark/ics-nids-robustness-benchmark/myenv/lib/python3.12/site-packages/keras/src/layers/reshaping/flatten.py:37: UserWarning: Do not pass an `input_shape`/`input_dim` argument to a layer. When using Sequential models, prefer using an `Input(shape)` object as the first layer in the model instead.\n",
      "  super().__init__(**kwargs)\n"
     ]
    }
   ],
   "source": [
    "surrogate_model2 = Sequential([\n",
    "    Flatten(input_shape=(NUM_FEATURES, L)),                     \n",
    "    \n",
    "    Dense(256, activation='relu', kernel_regularizer=l2(0.01)),  \n",
    "    BatchNormalization(),                              \n",
    "    Dropout(0.3),                                     \n",
    "    \n",
    "    Dense(128, activation='relu', kernel_regularizer=l2(0.01)),  \n",
    "    BatchNormalization(),\n",
    "    Dropout(0.3),\n",
    "    \n",
    "    Dense(64, activation='relu', kernel_regularizer=l2(0.01)),   \n",
    "    BatchNormalization(),\n",
    "    Dropout(0.3),\n",
    "    \n",
    "    Dense(32, activation='relu', kernel_regularizer=l2(0.01)),  \n",
    "    BatchNormalization(),\n",
    "    \n",
    "    Dense(1)                   \n",
    "])"
   ]
  },
  {
   "cell_type": "code",
   "execution_count": 37,
   "metadata": {},
   "outputs": [],
   "source": [
    "surrogate_model2.compile(\n",
    "    optimizer=Adam(learning_rate=0.01),\n",
    "    loss=tf.keras.losses.BinaryCrossentropy(from_logits=True),\n",
    "    metrics=['accuracy']\n",
    ")\n",
    "\n",
    "fidelity_sm2 = 1"
   ]
  },
  {
   "cell_type": "code",
   "execution_count": 38,
   "metadata": {},
   "outputs": [],
   "source": [
    "if (fidelity < 0.95):\n",
    "    surrogate_model2.fit(\n",
    "        train_windows, y_pred_train,\n",
    "        epochs=EPOCHS,            # Number of epochs\n",
    "        batch_size=32,        # Batch size\n",
    "        validation_split=0.2, # Validation split\n",
    "        verbose=1             # Verbosity level\n",
    "    )"
   ]
  },
  {
   "cell_type": "code",
   "execution_count": 39,
   "metadata": {},
   "outputs": [],
   "source": [
    "if fidelity<0.95:\n",
    "    logits1_sm2 = surrogate_model2.predict(test_windows)\n",
    "    probabilities1_sm2 = tf.sigmoid(logits1_sm2).numpy()\n",
    "\n",
    "    y_pred_sm2 = (probabilities1_sm2 > 0.5).astype(int).flatten()\n",
    "\n"
   ]
  },
  {
   "cell_type": "code",
   "execution_count": 40,
   "metadata": {},
   "outputs": [],
   "source": [
    "if fidelity<0.95:\n",
    "    accuracy_sm2 = accuracy_score(y_gt_test, y_pred_sm2)\n",
    "    recall_sm2 = recall_score(y_gt_test, y_pred_sm2, average='binary')  # Adjust `average` for multiclass\n",
    "    precision_sm2 = precision_score(y_gt_test, y_pred_sm2, average='binary')\n",
    "    fidelity_sm2 = accuracy_score(y_pred_test, y_pred_sm2)\n",
    "    print(\"Surrogate model 2 Performance\")\n",
    "    print(f\"Accuracy: {accuracy_sm2:.4f}\")\n",
    "    print(f\"Recall: {recall_sm2:.4f}\")\n",
    "    print(f\"Precision: {precision_sm2:.4f}\")\n",
    "    print(f\"Fidelity: {fidelity_sm2:.4f}\")\n",
    "    selected_model = surrogate_model2\n"
   ]
  },
  {
   "cell_type": "code",
   "execution_count": 41,
   "metadata": {},
   "outputs": [],
   "source": [
    "if fidelity<0.95:\n",
    "    cm_sm2 = confusion_matrix(y_gt_test, y_pred_sm2)\n",
    "    sns.heatmap(cm_sm2, annot=True, fmt='d', cmap='Blues', cbar=False,\n",
    "                xticklabels=['Predicted 0', 'Predicted 1'], \n",
    "                yticklabels=['Actual 0', 'Actual 1'])\n",
    "\n",
    "    plt.xlabel('Predicted')\n",
    "    plt.ylabel('True')\n",
    "    plt.title('Confusion Matrix')\n",
    "    plt.show()"
   ]
  },
  {
   "cell_type": "code",
   "execution_count": 42,
   "metadata": {},
   "outputs": [],
   "source": [
    "end_time_sm2 = time.time()\n",
    "if fidelity<0.95:\n",
    "\n",
    "    print(f\"Execution Time For Surrogate Model 2: {end_time_sm2 - start_time_sm2} seconds\")"
   ]
  },
  {
   "cell_type": "markdown",
   "metadata": {},
   "source": [
    "### Surrogate Model 3 - LSTM-based Classifier"
   ]
  },
  {
   "cell_type": "code",
   "execution_count": 43,
   "metadata": {},
   "outputs": [],
   "source": [
    "start_time_sm3 = time.time()"
   ]
  },
  {
   "cell_type": "code",
   "execution_count": 44,
   "metadata": {},
   "outputs": [
    {
     "name": "stderr",
     "output_type": "stream",
     "text": [
      "/home/advmlstudent/Documents/benchmark/ics-nids-robustness-benchmark/myenv/lib/python3.12/site-packages/keras/src/layers/rnn/rnn.py:204: UserWarning: Do not pass an `input_shape`/`input_dim` argument to a layer. When using Sequential models, prefer using an `Input(shape)` object as the first layer in the model instead.\n",
      "  super().__init__(**kwargs)\n"
     ]
    }
   ],
   "source": [
    "fidelity_sm3 = 1\n",
    "surrogate_model3 = Sequential([\n",
    "    LSTM(64, return_sequences=True, input_shape=(L, NUM_FEATURES)),  # LSTM layer with 64 units\n",
    "    Dropout(0.3),\n",
    "    LSTM(32, return_sequences=False),  # Another LSTM layer\n",
    "    Dropout(0.3),\n",
    "    Dense(16, activation='relu'),\n",
    "    Dense(1)  # No activation (logits output)\n",
    "])\n"
   ]
  },
  {
   "cell_type": "code",
   "execution_count": 45,
   "metadata": {},
   "outputs": [],
   "source": [
    "surrogate_model3.compile(loss=tf.keras.losses.BinaryCrossentropy(from_logits=True), \n",
    "              optimizer=Adam(learning_rate=0.001), \n",
    "              metrics=['accuracy'])"
   ]
  },
  {
   "cell_type": "code",
   "execution_count": 46,
   "metadata": {},
   "outputs": [],
   "source": [
    "if fidelity <0.95 and fidelity_sm2<0.95:\n",
    "    surrogate_model3.fit(\n",
    "        train_windows, y_pred_train,\n",
    "        epochs=EPOCHS,            # Number of epochs\n",
    "        batch_size=32,        # Batch size\n",
    "        validation_split=0.2, # Validation split\n",
    "        verbose=1             # Verbosity level\n",
    "    )"
   ]
  },
  {
   "cell_type": "code",
   "execution_count": 47,
   "metadata": {},
   "outputs": [],
   "source": [
    "if fidelity <0.95 and fidelity_sm2<0.95:\n",
    "    logits1_sm3 = surrogate_model3.predict(test_windows)\n",
    "    probabilities1_sm3 = tf.sigmoid(logits1_sm3).numpy()\n",
    "\n",
    "    # Convert to binary labels (0 or 1)\n",
    "    y_pred_sm3 = (probabilities1_sm3 > 0.5).astype(int).flatten()\n"
   ]
  },
  {
   "cell_type": "code",
   "execution_count": 48,
   "metadata": {},
   "outputs": [],
   "source": [
    "if fidelity <0.95 and fidelity_sm2<0.95:\n",
    "    accuracy_sm3 = accuracy_score(y_gt_test, y_pred_sm3)\n",
    "    recall_sm3 = recall_score(y_gt_test, y_pred_sm3, average='binary')  # Adjust `average` for multiclass\n",
    "    precision_sm3 = precision_score(y_gt_test, y_pred_sm3, average='binary')\n",
    "    fidelity_sm3 = accuracy_score(y_pred_test, y_pred_sm3)\n",
    "    print(\"Surrogate model 3 Performance\")\n",
    "    print(f\"Accuracy: {accuracy_sm3:.4f}\")\n",
    "    print(f\"Recall: {recall_sm3:.4f}\")\n",
    "    print(f\"Precision: {precision_sm3:.4f}\")\n",
    "    print(f\"Fidelity: {fidelity_sm3:.4f}\")"
   ]
  },
  {
   "cell_type": "code",
   "execution_count": 49,
   "metadata": {},
   "outputs": [],
   "source": [
    "if fidelity <0.95 and fidelity_sm2<0.95:\n",
    "    cm_sm3 = confusion_matrix(y_gt_test, y_pred_sm3)\n",
    "    sns.heatmap(cm_sm3, annot=True, fmt='d', cmap='Blues', cbar=False,\n",
    "                xticklabels=['Predicted 0', 'Predicted 1'], \n",
    "                yticklabels=['Actual 0', 'Actual 1'])\n",
    "\n",
    "    plt.xlabel('Predicted')\n",
    "    plt.ylabel('True')\n",
    "    plt.title('Confusion Matrix')\n",
    "    plt.show()\n",
    "    fidelities = np.array([fidelity, fidelity_sm2, fidelity_sm3])\n",
    "\n",
    "    max_index = np.argmax(fidelities)\n",
    "    models = [surrogate_model, surrogate_model2, surrogate_model3]\n",
    "    selected_model = models[max_index]\n"
   ]
  },
  {
   "cell_type": "code",
   "execution_count": 50,
   "metadata": {},
   "outputs": [
    {
     "name": "stdout",
     "output_type": "stream",
     "text": [
      "Execution Time For Surrogate Model 3: 0.25644707679748535 seconds\n"
     ]
    }
   ],
   "source": [
    "end_time_sm3 = time.time()\n",
    "\n",
    "print(f\"Execution Time For Surrogate Model 3: {end_time_sm3 - start_time_sm3} seconds\")"
   ]
  },
  {
   "cell_type": "markdown",
   "metadata": {},
   "source": [
    "Choosing Surrogate Model based on fidelity"
   ]
  },
  {
   "cell_type": "code",
   "execution_count": 51,
   "metadata": {},
   "outputs": [
    {
     "name": "stdout",
     "output_type": "stream",
     "text": [
      "Surrogate Model 1 is chosen.\n"
     ]
    }
   ],
   "source": [
    "if selected_model == surrogate_model:\n",
    "    print(\"Surrogate Model 1 is chosen.\")\n",
    "elif selected_model == surrogate_model2:\n",
    "    print(\"Surrogate Model 2 is chosen.\")\n",
    "else:\n",
    "    print(\"Surrogate Model 3 is chosen.\")"
   ]
  },
  {
   "cell_type": "markdown",
   "metadata": {},
   "source": [
    "For white-box access"
   ]
  },
  {
   "cell_type": "code",
   "execution_count": 52,
   "metadata": {},
   "outputs": [],
   "source": [
    "if access == \"whitebox\":\n",
    "    selected_model = model"
   ]
  },
  {
   "cell_type": "markdown",
   "metadata": {},
   "source": [
    "# Evasion Attack Stage"
   ]
  },
  {
   "cell_type": "code",
   "execution_count": 53,
   "metadata": {},
   "outputs": [],
   "source": [
    "windows = []\n",
    "\n",
    "\n",
    "for i in range(0, len(dataset_normal) - L + 1, L):\n",
    "    window = dataset_normal[i:i + L]\n",
    "    windows.append(window)\n",
    "\n",
    "test_windows_normal_ind = np.array(windows)"
   ]
  },
  {
   "cell_type": "code",
   "execution_count": 54,
   "metadata": {},
   "outputs": [],
   "source": [
    "windows = []\n",
    "\n",
    "\n",
    "for i in range(0, len(dataset_attack) - L + 1, L):\n",
    "    window = dataset_attack[i:i + L]\n",
    "    windows.append(window)\n",
    "\n",
    "test_windows_attack_ind = np.array(windows)"
   ]
  },
  {
   "cell_type": "code",
   "execution_count": 55,
   "metadata": {},
   "outputs": [],
   "source": [
    "y_gt_dataset_normal_ind = np.zeros(int(X_dataset_normal_orig.shape[0]/L))  \n",
    "y_gt_dataset_attack_ind = np.ones(int(X_dataset_attack_orig.shape[0]/L)) \n",
    "\n",
    "y_gt_data = np.concatenate((np.zeros(int(X_dataset_normal_orig.shape[0]/L)*L), np.ones(int(X_dataset_attack_orig.shape[0]/L)*L)))\n",
    "\n",
    "y_gt_dataset_ind = np.concatenate((np.zeros(int(((int(X_dataset_normal_orig.shape[0]/L))*L -L)/S + 1)), np.ones(int(((int(X_dataset_attack_orig.shape[0]/L))*L -L)/S + 1))))"
   ]
  },
  {
   "cell_type": "markdown",
   "metadata": {},
   "source": [
    "## FGSM - Binary Cross Entropy"
   ]
  },
  {
   "cell_type": "code",
   "execution_count": 56,
   "metadata": {},
   "outputs": [],
   "source": [
    "start_time_fgsm_bce = time.time()"
   ]
  },
  {
   "cell_type": "code",
   "execution_count": 57,
   "metadata": {},
   "outputs": [],
   "source": [
    "\n",
    "def fgsm_attack(model, X, y, epsilon=0.1):\n",
    "  \n",
    "    X_adv = tf.convert_to_tensor(X, dtype=tf.float32)\n",
    "    y_true = tf.convert_to_tensor(y, dtype=tf.float32)\n",
    "    y_true = tf.reshape(y_true, (-1, 1))  \n",
    "\n",
    "    with tf.GradientTape() as tape:\n",
    "        tape.watch(X_adv)\n",
    "        logits = model(X_adv)  \n",
    "        loss = tf.keras.losses.binary_crossentropy(y_true, logits, from_logits=True)  \n",
    "\n",
    "    gradient = tape.gradient(loss, X_adv)\n",
    "    signed_grad = tf.sign(gradient)\n",
    "\n",
    "    X_adv = X_adv + epsilon * signed_grad\n",
    "\n",
    "    X_adv = tf.clip_by_value(X_adv, 0, 1)\n",
    "\n",
    "    return X_adv.numpy()"
   ]
  },
  {
   "cell_type": "code",
   "execution_count": 58,
   "metadata": {},
   "outputs": [],
   "source": [
    "X_test_normal_adv_fgsm = fgsm_attack(selected_model, test_windows_normal_ind, y_gt_dataset_normal_ind, epsilon_normal)"
   ]
  },
  {
   "cell_type": "code",
   "execution_count": 59,
   "metadata": {},
   "outputs": [],
   "source": [
    "X_test_attack_adv_fgsm = fgsm_attack(selected_model, test_windows_attack_ind, y_gt_dataset_attack_ind, epsilon_attack)\n"
   ]
  },
  {
   "cell_type": "code",
   "execution_count": 60,
   "metadata": {},
   "outputs": [],
   "source": [
    "X_test_normal_adv_fgsm_reshaped = X_test_normal_adv_fgsm.reshape(-1, NUM_FEATURES)\n",
    "X_test_attack_adv_fgsm_reshaped = X_test_attack_adv_fgsm.reshape(-1, NUM_FEATURES)\n"
   ]
  },
  {
   "cell_type": "code",
   "execution_count": 61,
   "metadata": {},
   "outputs": [],
   "source": [
    "X_test_normal_adv_fgsm_orig = scaler.inverse_transform(X_test_normal_adv_fgsm_reshaped)\n",
    "X_test_attack_adv_fgsm_orig = scaler.inverse_transform(X_test_attack_adv_fgsm_reshaped)"
   ]
  },
  {
   "cell_type": "code",
   "execution_count": 62,
   "metadata": {},
   "outputs": [],
   "source": [
    "X_test_normal_adv_fgsm_orig[:, protected_cols] = np.round(X_test_normal_adv_fgsm_orig[:, protected_cols], decimals=0)\n",
    "X_test_attack_adv_fgsm_orig[:, protected_cols] = np.round(X_test_attack_adv_fgsm_orig[:, protected_cols], decimals=0)"
   ]
  },
  {
   "cell_type": "code",
   "execution_count": 63,
   "metadata": {},
   "outputs": [],
   "source": [
    "y_pred_normal_adv_fgsm = model.predict(X_test_normal_adv_fgsm_orig)\n",
    "y_pred_attack_adv_fgsm = model.predict(X_test_attack_adv_fgsm_orig)"
   ]
  },
  {
   "cell_type": "code",
   "execution_count": 64,
   "metadata": {},
   "outputs": [
    {
     "name": "stdout",
     "output_type": "stream",
     "text": [
      "FGSM-BCE Attack Performance on NIDS\n",
      "Accuracy: 0.4454\n",
      "Recall: 0.7098\n",
      "Precision: 0.1423\n"
     ]
    }
   ],
   "source": [
    "y_pred_adv_fgsm = np.concatenate((y_pred_normal_adv_fgsm, y_pred_attack_adv_fgsm))\n",
    "print(\"FGSM-BCE Attack Performance on NIDS\")\n",
    "accuracy = accuracy_score(y_gt_dataset_ind, y_pred_adv_fgsm)\n",
    "recall = recall_score(y_gt_dataset_ind, y_pred_adv_fgsm, average='binary')  # Adjust `average` for multiclass\n",
    "precision = precision_score(y_gt_dataset_ind, y_pred_adv_fgsm, average='binary')\n",
    "\n",
    "print(f\"Accuracy: {accuracy:.4f}\")\n",
    "print(f\"Recall: {recall:.4f}\")\n",
    "print(f\"Precision: {precision:.4f}\")"
   ]
  },
  {
   "cell_type": "code",
   "execution_count": 65,
   "metadata": {},
   "outputs": [
    {
     "data": {
      "image/png": "[encoded data removed]",
      "text/plain": [
       "<Figure size 640x480 with 1 Axes>"
      ]
     },
     "metadata": {},
     "output_type": "display_data"
    }
   ],
   "source": [
    "cm_fgsm = confusion_matrix(y_gt_dataset_ind, y_pred_adv_fgsm)\n",
    "sns.heatmap(cm_fgsm, annot=True, fmt='d', cmap='Blues', cbar=False,\n",
    "            xticklabels=['Predicted 0', 'Predicted 1'], \n",
    "            yticklabels=['Actual 0', 'Actual 1'])\n",
    "\n",
    "plt.xlabel('Predicted')\n",
    "plt.ylabel('True')\n",
    "plt.title('Confusion Matrix')\n",
    "plt.show()"
   ]
  },
  {
   "cell_type": "code",
   "execution_count": 66,
   "metadata": {},
   "outputs": [],
   "source": [
    "X_test_adv_fgsm = np.concatenate((X_test_normal_adv_fgsm_orig, X_test_attack_adv_fgsm_orig))\n",
    "adv_fgsm_test = np.column_stack((X_test_adv_fgsm, y_gt_data))\n",
    "adv_fgsm = pd.DataFrame(adv_fgsm_test, columns=test.columns)"
   ]
  },
  {
   "cell_type": "code",
   "execution_count": 67,
   "metadata": {},
   "outputs": [],
   "source": [
    "adv_fgsm.to_csv(\"4_rf_fgsm_swat.csv\", index=False)"
   ]
  },
  {
   "cell_type": "code",
   "execution_count": 68,
   "metadata": {},
   "outputs": [
    {
     "name": "stdout",
     "output_type": "stream",
     "text": [
      "Total Execution Time of Attack: 47.702399253845215 seconds\n"
     ]
    }
   ],
   "source": [
    "end_time_fgsm_bce = time.time()\n",
    "\n",
    "print(f\"Total Execution Time of Attack: {end_time_fgsm_bce - start_time_fgsm_bce} seconds\")"
   ]
  },
  {
   "cell_type": "markdown",
   "metadata": {},
   "source": [
    "## FGSM - L0"
   ]
  },
  {
   "cell_type": "code",
   "execution_count": 69,
   "metadata": {},
   "outputs": [],
   "source": [
    "start_time_fgsm0 = time.time()"
   ]
  },
  {
   "cell_type": "code",
   "execution_count": 70,
   "metadata": {},
   "outputs": [],
   "source": [
    "def fgsm_attack_top_k(model, X, y, epsilon=0.1, k=50):\n",
    "\n",
    "    X_adv = tf.convert_to_tensor(X, dtype=tf.float32)\n",
    "    y_true = tf.convert_to_tensor(y, dtype=tf.float32)\n",
    "    y_true = tf.reshape(y_true, (-1, 1))  \n",
    "\n",
    "    with tf.GradientTape() as tape:\n",
    "        tape.watch(X_adv)\n",
    "        logits = model(X_adv)\n",
    "        loss = tf.keras.losses.binary_crossentropy(y_true, logits, from_logits=True)\n",
    "\n",
    "    gradient = tape.gradient(loss, X_adv)\n",
    "\n",
    "    abs_gradient = tf.abs(gradient)\n",
    "    flat_gradients = tf.reshape(abs_gradient, [abs_gradient.shape[0], -1])\n",
    "\n",
    "    top_k = tf.math.top_k(flat_gradients, k=k)\n",
    "    top_k_indices = top_k.indices  \n",
    "\n",
    "    mask = tf.zeros_like(flat_gradients)  \n",
    "\n",
    "    for i in range(X_adv.shape[0]):\n",
    "        indices = tf.expand_dims(top_k_indices[i], 1) \n",
    "        updates = tf.gather(tf.sign(flat_gradients[i]), top_k_indices[i]) \n",
    "        mask_i = tf.tensor_scatter_nd_update(mask[i], indices, updates)\n",
    "        mask = tf.tensor_scatter_nd_update(mask, [[i]], [mask_i])\n",
    "\n",
    "    mask = tf.reshape(mask, gradient.shape)\n",
    "\n",
    "    X_adv = X_adv + epsilon * mask\n",
    "    X_adv = tf.clip_by_value(X_adv, 0, 1)\n",
    "\n",
    "    return X_adv.numpy()\n"
   ]
  },
  {
   "cell_type": "code",
   "execution_count": 71,
   "metadata": {},
   "outputs": [],
   "source": [
    "X_test_normal_adv_fgsm0 = fgsm_attack_top_k(selected_model, test_windows_normal_ind, y_gt_dataset_normal_ind, epsilon_normal, k_normal)"
   ]
  },
  {
   "cell_type": "code",
   "execution_count": 72,
   "metadata": {},
   "outputs": [],
   "source": [
    "X_test_attack_adv_fgsm0 = fgsm_attack_top_k(selected_model, test_windows_attack_ind, y_gt_dataset_attack_ind, epsilon_attack, k_attack)"
   ]
  },
  {
   "cell_type": "code",
   "execution_count": 73,
   "metadata": {},
   "outputs": [],
   "source": [
    "X_test_normal_adv_fgsm0_reshaped = X_test_normal_adv_fgsm0.reshape(-1, NUM_FEATURES)\n",
    "X_test_attack_adv_fgsm0_reshaped = X_test_attack_adv_fgsm0.reshape(-1, NUM_FEATURES)"
   ]
  },
  {
   "cell_type": "code",
   "execution_count": 74,
   "metadata": {},
   "outputs": [],
   "source": [
    "X_test_normal_adv_fgsm0_orig = scaler.inverse_transform(X_test_normal_adv_fgsm0_reshaped)\n",
    "X_test_attack_adv_fgsm0_orig = scaler.inverse_transform(X_test_attack_adv_fgsm0_reshaped)"
   ]
  },
  {
   "cell_type": "code",
   "execution_count": 75,
   "metadata": {},
   "outputs": [],
   "source": [
    "X_test_normal_adv_fgsm0_orig[:, protected_cols] = np.round(X_test_normal_adv_fgsm0_orig[:, protected_cols], decimals=0)\n",
    "X_test_attack_adv_fgsm0_orig[:, protected_cols] = np.round(X_test_attack_adv_fgsm0_orig[:, protected_cols], decimals=0)"
   ]
  },
  {
   "cell_type": "code",
   "execution_count": 76,
   "metadata": {},
   "outputs": [],
   "source": [
    "y_pred_normal_adv_fgsm0 = model.predict(X_test_normal_adv_fgsm0_orig)\n",
    "y_pred_attack_adv_fgsm0 = model.predict(X_test_attack_adv_fgsm0_orig)"
   ]
  },
  {
   "cell_type": "code",
   "execution_count": 77,
   "metadata": {},
   "outputs": [
    {
     "name": "stdout",
     "output_type": "stream",
     "text": [
      "FGSM-L0 Attack Performance on NIDS\n",
      "Accuracy: 0.8911\n",
      "Recall: 0.7125\n",
      "Precision: 0.5391\n"
     ]
    }
   ],
   "source": [
    "y_pred_adv_fgsm0 = np.concatenate((y_pred_normal_adv_fgsm0, y_pred_attack_adv_fgsm0))\n",
    "print(\"FGSM-L0 Attack Performance on NIDS\")\n",
    "accuracy = accuracy_score(y_gt_dataset_ind, y_pred_adv_fgsm0)\n",
    "recall = recall_score(y_gt_dataset_ind, y_pred_adv_fgsm0, average='binary')  # Adjust `average` for multiclass\n",
    "precision = precision_score(y_gt_dataset_ind, y_pred_adv_fgsm0, average='binary')\n",
    "\n",
    "print(f\"Accuracy: {accuracy:.4f}\")\n",
    "print(f\"Recall: {recall:.4f}\")\n",
    "print(f\"Precision: {precision:.4f}\")"
   ]
  },
  {
   "cell_type": "code",
   "execution_count": 78,
   "metadata": {},
   "outputs": [
    {
     "data": {
      "image/png": "[encoded data removed]",
      "text/plain": [
       "<Figure size 640x480 with 1 Axes>"
      ]
     },
     "metadata": {},
     "output_type": "display_data"
    }
   ],
   "source": [
    "cm_fgsm = confusion_matrix(y_gt_dataset_ind, y_pred_adv_fgsm0)\n",
    "sns.heatmap(cm_fgsm, annot=True, fmt='d', cmap='Blues', cbar=False,\n",
    "            xticklabels=['Predicted 0', 'Predicted 1'], \n",
    "            yticklabels=['Actual 0', 'Actual 1'])\n",
    "\n",
    "plt.xlabel('Predicted')\n",
    "plt.ylabel('True')\n",
    "plt.title('Confusion Matrix')\n",
    "plt.show()"
   ]
  },
  {
   "cell_type": "code",
   "execution_count": 79,
   "metadata": {},
   "outputs": [],
   "source": [
    "X_test_adv_fgsm0 = np.concatenate((X_test_normal_adv_fgsm0_orig, X_test_attack_adv_fgsm0_orig))\n",
    "adv_fgsm0_test = np.column_stack((X_test_adv_fgsm0, y_gt_data))\n",
    "adv_fgsm0 = pd.DataFrame(adv_fgsm0_test, columns=test.columns)"
   ]
  },
  {
   "cell_type": "code",
   "execution_count": 80,
   "metadata": {},
   "outputs": [],
   "source": [
    "adv_fgsm0.to_csv(\"4_rf_fgsm0_swat.csv\", index=False)"
   ]
  },
  {
   "cell_type": "code",
   "execution_count": 81,
   "metadata": {},
   "outputs": [
    {
     "name": "stdout",
     "output_type": "stream",
     "text": [
      "Total Execution Time of Attack: 333.68728828430176 seconds\n"
     ]
    }
   ],
   "source": [
    "end_time_fgsm0 = time.time()\n",
    "\n",
    "print(f\"Total Execution Time of Attack: {end_time_fgsm0 - start_time_fgsm0} seconds\")"
   ]
  },
  {
   "cell_type": "markdown",
   "metadata": {},
   "source": [
    "## PGD - Binary Cross Entropy Attack"
   ]
  },
  {
   "cell_type": "code",
   "execution_count": 82,
   "metadata": {},
   "outputs": [],
   "source": [
    "start_time_pgd_bce = time.time()"
   ]
  },
  {
   "cell_type": "code",
   "execution_count": 83,
   "metadata": {},
   "outputs": [],
   "source": [
    "def pgd_attack(model, X, y, epsilon, alpha=0.01, iterations=10, random_start=True):\n",
    "    \n",
    "    X_adv = tf.convert_to_tensor(X, dtype=tf.float32)\n",
    "    y_true = tf.convert_to_tensor(y, dtype=tf.float32)\n",
    "    y_true = tf.reshape(y_true, (-1, 1))  \n",
    "\n",
    "    if random_start:\n",
    "        X_adv = X_adv + tf.random.uniform(X_adv.shape, minval=-epsilon, maxval=epsilon)\n",
    "        X_adv = tf.clip_by_value(X_adv, 0, 1)  \n",
    "\n",
    "    for _ in range(iterations):\n",
    "        with tf.GradientTape() as tape:\n",
    "            tape.watch(X_adv)\n",
    "            logits = model(X_adv)  \n",
    "            loss = tf.keras.losses.binary_crossentropy(y_true, logits, from_logits=True)  \n",
    "\n",
    "        gradient = tape.gradient(loss, X_adv)\n",
    "        signed_grad = tf.sign(gradient)\n",
    "\n",
    "        X_adv = X_adv + alpha * signed_grad\n",
    "\n",
    "        X_adv = tf.clip_by_value(X_adv, X - epsilon, X + epsilon)\n",
    "\n",
    "        X_adv = tf.clip_by_value(X_adv, 0, 1)\n",
    "\n",
    "    return X_adv.numpy()\n"
   ]
  },
  {
   "cell_type": "code",
   "execution_count": 84,
   "metadata": {},
   "outputs": [],
   "source": [
    "X_test_normal_adv_pgd = pgd_attack(selected_model, test_windows_normal_ind, y_gt_dataset_normal_ind, epsilon_normal, alpha_normal_pgd, iterations)\n",
    "X_test_attack_adv_pgd = pgd_attack(selected_model, test_windows_attack_ind, y_gt_dataset_attack_ind, epsilon_attack, alpha_attack_pgd, iterations)"
   ]
  },
  {
   "cell_type": "code",
   "execution_count": 85,
   "metadata": {},
   "outputs": [],
   "source": [
    "X_test_normal_adv_pgd_reshaped = X_test_normal_adv_pgd.reshape(-1, NUM_FEATURES)\n",
    "X_test_attack_adv_pgd_reshaped = X_test_attack_adv_pgd.reshape(-1, NUM_FEATURES)"
   ]
  },
  {
   "cell_type": "code",
   "execution_count": 86,
   "metadata": {},
   "outputs": [],
   "source": [
    "X_test_normal_adv_pgd_orig = scaler.inverse_transform(X_test_normal_adv_pgd_reshaped)\n",
    "X_test_attack_adv_pgd_orig = scaler.inverse_transform(X_test_attack_adv_pgd_reshaped)"
   ]
  },
  {
   "cell_type": "code",
   "execution_count": 87,
   "metadata": {},
   "outputs": [],
   "source": [
    "X_test_normal_adv_pgd_orig[:, protected_cols] = np.round(X_test_normal_adv_pgd_orig[:, protected_cols], decimals=0)\n",
    "X_test_attack_adv_pgd_orig[:, protected_cols] = np.round(X_test_attack_adv_pgd_orig[:, protected_cols], decimals=0)"
   ]
  },
  {
   "cell_type": "code",
   "execution_count": 88,
   "metadata": {},
   "outputs": [],
   "source": [
    "y_pred_normal_adv_pgd = model.predict(X_test_normal_adv_pgd_orig)\n",
    "y_pred_attack_adv_pgd = model.predict(X_test_attack_adv_pgd_orig)"
   ]
  },
  {
   "cell_type": "code",
   "execution_count": 89,
   "metadata": {},
   "outputs": [
    {
     "name": "stdout",
     "output_type": "stream",
     "text": [
      "PGD-BCE Attack Performance on NIDS\n",
      "Accuracy: 0.6388\n",
      "Recall: 0.7097\n",
      "Precision: 0.2091\n"
     ]
    }
   ],
   "source": [
    "y_pred_adv_pgd = np.concatenate((y_pred_normal_adv_pgd, y_pred_attack_adv_pgd))\n",
    "print(\"PGD-BCE Attack Performance on NIDS\")\n",
    "accuracy = accuracy_score(y_gt_dataset_ind, y_pred_adv_pgd)\n",
    "recall = recall_score(y_gt_dataset_ind, y_pred_adv_pgd, average='binary')  # Adjust `average` for multiclass\n",
    "precision = precision_score(y_gt_dataset_ind, y_pred_adv_pgd, average='binary')\n",
    "\n",
    "print(f\"Accuracy: {accuracy:.4f}\")\n",
    "print(f\"Recall: {recall:.4f}\")\n",
    "print(f\"Precision: {precision:.4f}\")"
   ]
  },
  {
   "cell_type": "code",
   "execution_count": 90,
   "metadata": {},
   "outputs": [
    {
     "data": {
      "image/png": "[encoded data removed]",
      "text/plain": [
       "<Figure size 640x480 with 1 Axes>"
      ]
     },
     "metadata": {},
     "output_type": "display_data"
    }
   ],
   "source": [
    "cm_pgd = confusion_matrix(y_gt_dataset_ind, y_pred_adv_pgd)\n",
    "sns.heatmap(cm_pgd, annot=True, fmt='d', cmap='Blues', cbar=False,\n",
    "            xticklabels=['Predicted 0', 'Predicted 1'], \n",
    "            yticklabels=['Actual 0', 'Actual 1'])\n",
    "\n",
    "plt.xlabel('Predicted')\n",
    "plt.ylabel('True')\n",
    "plt.title('Confusion Matrix')\n",
    "plt.show()"
   ]
  },
  {
   "cell_type": "code",
   "execution_count": 91,
   "metadata": {},
   "outputs": [],
   "source": [
    "X_test_adv_pgd = np.concatenate((X_test_normal_adv_pgd_orig, X_test_attack_adv_pgd_orig))\n",
    "adv_pgd_test = np.column_stack((X_test_adv_pgd, y_gt_data))\n",
    "adv_pgd = pd.DataFrame(adv_pgd_test, columns=test.columns)"
   ]
  },
  {
   "cell_type": "code",
   "execution_count": 92,
   "metadata": {},
   "outputs": [],
   "source": [
    "adv_pgd.to_csv(\"4_rf_pgd_swat.csv\", index=False)"
   ]
  },
  {
   "cell_type": "code",
   "execution_count": 93,
   "metadata": {},
   "outputs": [
    {
     "name": "stdout",
     "output_type": "stream",
     "text": [
      "Total Execution Time of Attack: 48.480371713638306 seconds\n"
     ]
    }
   ],
   "source": [
    "end_time_pgd_bce = time.time()\n",
    "\n",
    "print(f\"Total Execution Time of Attack: {end_time_pgd_bce - start_time_pgd_bce} seconds\")"
   ]
  },
  {
   "cell_type": "markdown",
   "metadata": {},
   "source": [
    "## PGD - Carlini & Wagner Loss"
   ]
  },
  {
   "cell_type": "code",
   "execution_count": 94,
   "metadata": {},
   "outputs": [],
   "source": [
    "start_time_pgd_cw = time.time()"
   ]
  },
  {
   "cell_type": "code",
   "execution_count": 95,
   "metadata": {},
   "outputs": [],
   "source": [
    "def cw_loss(logits, labels, confidence=0):\n",
    "    \n",
    "    labels = tf.cast(labels, tf.float32)\n",
    "    logits = tf.reshape(logits, (-1, 1))  \n",
    "    \n",
    "    target_logits = (1 - labels) * logits  \n",
    "    true_logits = labels * logits\n",
    "\n",
    "    return tf.maximum(true_logits - target_logits + confidence, 0)\n",
    "\n",
    "def pgd_attack_cw(model, X, y, epsilon=0.1, alpha=0.01, iterations=10, confidence=0, random_start=True):\n",
    "    \n",
    "    X_adv = tf.convert_to_tensor(X, dtype=tf.float32)\n",
    "    y_true = tf.convert_to_tensor(y, dtype=tf.float32)\n",
    "    y_true = tf.reshape(y_true, (-1, 1))  \n",
    "\n",
    "    if random_start:\n",
    "        X_adv = X_adv + tf.random.uniform(X_adv.shape, minval=-epsilon, maxval=epsilon)\n",
    "        X_adv = tf.clip_by_value(X_adv, 0, 1)\n",
    "\n",
    "    for _ in range(iterations):\n",
    "        with tf.GradientTape() as tape:\n",
    "            tape.watch(X_adv)\n",
    "            logits = model(X_adv)\n",
    "            loss = cw_loss(logits, y_true, confidence)\n",
    "\n",
    "        gradient = tape.gradient(loss, X_adv)\n",
    "        signed_grad = tf.sign(gradient)\n",
    "\n",
    "        X_adv = X_adv + alpha * signed_grad\n",
    "\n",
    "        X_adv = tf.clip_by_value(X_adv, X - epsilon, X + epsilon)\n",
    "\n",
    "        X_adv = tf.clip_by_value(X_adv, 0, 1)\n",
    "\n",
    "    return X_adv.numpy()\n"
   ]
  },
  {
   "cell_type": "code",
   "execution_count": 96,
   "metadata": {},
   "outputs": [],
   "source": [
    "\n",
    "X_test_normal_adv_pgd_cw = pgd_attack_cw(selected_model, test_windows_normal_ind, y_gt_dataset_normal_ind, epsilon_normal, alpha_normal_pgd, iterations, confidence)\n",
    "X_test_attack_adv_pgd_cw = pgd_attack_cw(selected_model, test_windows_attack_ind, y_gt_dataset_attack_ind, epsilon_attack, alpha_attack_pgd, iterations, confidence)"
   ]
  },
  {
   "cell_type": "code",
   "execution_count": 97,
   "metadata": {},
   "outputs": [],
   "source": [
    "X_test_normal_adv_pgd_cw_reshaped = X_test_normal_adv_pgd_cw.reshape(-1, NUM_FEATURES)\n",
    "X_test_attack_adv_pgd_cw_reshaped = X_test_attack_adv_pgd_cw.reshape(-1, NUM_FEATURES)"
   ]
  },
  {
   "cell_type": "code",
   "execution_count": 98,
   "metadata": {},
   "outputs": [],
   "source": [
    "X_test_normal_adv_pgd_cw_orig = scaler.inverse_transform(X_test_normal_adv_pgd_cw_reshaped)\n",
    "X_test_attack_adv_pgd_cw_orig = scaler.inverse_transform(X_test_attack_adv_pgd_cw_reshaped)"
   ]
  },
  {
   "cell_type": "code",
   "execution_count": 99,
   "metadata": {},
   "outputs": [],
   "source": [
    "X_test_normal_adv_pgd_cw_orig[:, protected_cols] = np.round(X_test_normal_adv_pgd_cw_orig[:, protected_cols], decimals=0)\n",
    "X_test_attack_adv_pgd_cw_orig[:, protected_cols] = np.round(X_test_attack_adv_pgd_cw_orig[:, protected_cols], decimals=0)"
   ]
  },
  {
   "cell_type": "code",
   "execution_count": 100,
   "metadata": {},
   "outputs": [],
   "source": [
    "y_pred_normal_adv_pgd_cw = model.predict(X_test_normal_adv_pgd_cw_orig)\n",
    "y_pred_attack_adv_pgd_cw = model.predict(X_test_attack_adv_pgd_cw_orig)"
   ]
  },
  {
   "cell_type": "code",
   "execution_count": 101,
   "metadata": {},
   "outputs": [
    {
     "name": "stdout",
     "output_type": "stream",
     "text": [
      "PGD-CW Attack Performance on NIDS\n",
      "Accuracy: 0.7026\n",
      "Recall: 0.7108\n",
      "Precision: 0.2475\n"
     ]
    }
   ],
   "source": [
    "y_pred_adv_pgd_cw = np.concatenate((y_pred_normal_adv_pgd_cw, y_pred_attack_adv_pgd_cw))\n",
    "print(\"PGD-CW Attack Performance on NIDS\")\n",
    "accuracy = accuracy_score(y_gt_dataset_ind, y_pred_adv_pgd_cw)\n",
    "recall = recall_score(y_gt_dataset_ind, y_pred_adv_pgd_cw, average='binary')  # Adjust `average` for multiclass\n",
    "precision = precision_score(y_gt_dataset_ind, y_pred_adv_pgd_cw, average='binary')\n",
    "\n",
    "print(f\"Accuracy: {accuracy:.4f}\")\n",
    "print(f\"Recall: {recall:.4f}\")\n",
    "print(f\"Precision: {precision:.4f}\")"
   ]
  },
  {
   "cell_type": "code",
   "execution_count": 102,
   "metadata": {},
   "outputs": [
    {
     "data": {
      "image/png": "[encoded data removed]",
      "text/plain": [
       "<Figure size 640x480 with 1 Axes>"
      ]
     },
     "metadata": {},
     "output_type": "display_data"
    }
   ],
   "source": [
    "cm_pgd = confusion_matrix(y_gt_dataset_ind, y_pred_adv_pgd_cw)\n",
    "sns.heatmap(cm_pgd, annot=True, fmt='d', cmap='Blues', cbar=False,\n",
    "            xticklabels=['Predicted 0', 'Predicted 1'], \n",
    "            yticklabels=['Actual 0', 'Actual 1'])\n",
    "\n",
    "plt.xlabel('Predicted')\n",
    "plt.ylabel('True')\n",
    "plt.title('Confusion Matrix')\n",
    "plt.show()"
   ]
  },
  {
   "cell_type": "code",
   "execution_count": 103,
   "metadata": {},
   "outputs": [],
   "source": [
    "X_test_adv_pgd_cw = np.concatenate((X_test_normal_adv_pgd_cw_orig, X_test_attack_adv_pgd_cw_orig))\n",
    "adv_pgd_cw_test = np.column_stack((X_test_adv_pgd_cw, y_gt_data))\n",
    "adv_pgd_cw = pd.DataFrame(adv_pgd_cw_test, columns=test.columns)"
   ]
  },
  {
   "cell_type": "code",
   "execution_count": 104,
   "metadata": {},
   "outputs": [],
   "source": [
    "adv_pgd_cw.to_csv(\"4_rf_pgd_cw_swat.csv\", index=False)"
   ]
  },
  {
   "cell_type": "code",
   "execution_count": 105,
   "metadata": {},
   "outputs": [
    {
     "name": "stdout",
     "output_type": "stream",
     "text": [
      "Total Execution Time of Attack: 49.21968364715576 seconds\n"
     ]
    }
   ],
   "source": [
    "end_time_pgd_cw = time.time()\n",
    "\n",
    "print(f\"Total Execution Time of Attack: {end_time_pgd_cw - start_time_pgd_cw} seconds\")"
   ]
  },
  {
   "cell_type": "markdown",
   "metadata": {},
   "source": [
    "## PGD - Logit Attack"
   ]
  },
  {
   "cell_type": "code",
   "execution_count": 106,
   "metadata": {},
   "outputs": [],
   "source": [
    "start_time_pgd_logit = time.time()"
   ]
  },
  {
   "cell_type": "code",
   "execution_count": 107,
   "metadata": {},
   "outputs": [],
   "source": [
    "def pgd_attack_logit(model, X, y, epsilon=0.1, alpha=0.01, iterations=10, random_start=True):\n",
    "\n",
    "    X_adv = tf.convert_to_tensor(X, dtype=tf.float32)\n",
    "    y_true = tf.convert_to_tensor(y, dtype=tf.float32)\n",
    "    y_true = tf.reshape(y_true, (-1, 1))\n",
    "\n",
    "    if random_start:\n",
    "        X_adv = X_adv + tf.random.uniform(X_adv.shape, minval=-epsilon, maxval=epsilon)\n",
    "        X_adv = tf.clip_by_value(X_adv, 0, 1) \n",
    "\n",
    "    for _ in range(iterations):\n",
    "        with tf.GradientTape() as tape:\n",
    "            tape.watch(X_adv)\n",
    "            logits = model(X_adv)  \n",
    "            \n",
    "            logit_true = tf.reduce_sum(logits * y_true, axis=1, keepdims=True)  \n",
    "            logit_false = tf.reduce_max(logits * (1 - y_true), axis=1, keepdims=True)  \n",
    "            \n",
    "            loss = logit_false - logit_true  \n",
    "            \n",
    "        gradient = tape.gradient(loss, X_adv)\n",
    "        signed_grad = tf.sign(gradient)\n",
    "\n",
    "        X_adv = X_adv + alpha * signed_grad\n",
    "\n",
    "        X_adv = tf.clip_by_value(X_adv, X - epsilon, X + epsilon)\n",
    "\n",
    "        X_adv = tf.clip_by_value(X_adv, 0, 1)\n",
    "\n",
    "    return X_adv.numpy()\n"
   ]
  },
  {
   "cell_type": "code",
   "execution_count": 108,
   "metadata": {},
   "outputs": [],
   "source": [
    "X_test_normal_adv_pgd_logit = pgd_attack_logit(selected_model, test_windows_normal_ind, y_gt_dataset_normal_ind, epsilon_normal, alpha_normal_pgd, iterations)\n",
    "X_test_attack_adv_pgd_logit = pgd_attack_logit(selected_model, test_windows_attack_ind, y_gt_dataset_attack_ind, epsilon_attack, alpha_attack_pgd, iterations)"
   ]
  },
  {
   "cell_type": "code",
   "execution_count": 109,
   "metadata": {},
   "outputs": [],
   "source": [
    "X_test_normal_adv_pgd_logit_reshaped = X_test_normal_adv_pgd_logit.reshape(-1, NUM_FEATURES)\n",
    "X_test_attack_adv_pgd_logit_reshaped = X_test_attack_adv_pgd_logit.reshape(-1, NUM_FEATURES)"
   ]
  },
  {
   "cell_type": "code",
   "execution_count": 110,
   "metadata": {},
   "outputs": [],
   "source": [
    "X_test_normal_adv_pgd_logit_orig = scaler.inverse_transform(X_test_normal_adv_pgd_logit_reshaped)\n",
    "X_test_attack_adv_pgd_logit_orig = scaler.inverse_transform(X_test_attack_adv_pgd_logit_reshaped)"
   ]
  },
  {
   "cell_type": "code",
   "execution_count": 111,
   "metadata": {},
   "outputs": [],
   "source": [
    "X_test_normal_adv_pgd_logit_orig[:, protected_cols] = np.round(X_test_normal_adv_pgd_logit_orig[:, protected_cols], decimals=0)\n",
    "X_test_attack_adv_pgd_logit_orig[:, protected_cols] = np.round(X_test_attack_adv_pgd_logit_orig[:, protected_cols], decimals=0)"
   ]
  },
  {
   "cell_type": "code",
   "execution_count": 112,
   "metadata": {},
   "outputs": [],
   "source": [
    "y_pred_normal_adv_pgd_logit = model.predict(X_test_normal_adv_pgd_logit_orig)\n",
    "y_pred_attack_adv_pgd_logit = model.predict(X_test_attack_adv_pgd_logit_orig)"
   ]
  },
  {
   "cell_type": "code",
   "execution_count": 113,
   "metadata": {},
   "outputs": [
    {
     "name": "stdout",
     "output_type": "stream",
     "text": [
      "PGD-logit Attack Performance on NIDS\n",
      "Accuracy: 0.6401\n",
      "Recall: 0.7096\n",
      "Precision: 0.2097\n"
     ]
    }
   ],
   "source": [
    "y_pred_adv_pgd_logit = np.concatenate((y_pred_normal_adv_pgd_logit, y_pred_attack_adv_pgd_logit))\n",
    "\n",
    "print(\"PGD-logit Attack Performance on NIDS\")\n",
    "accuracy = accuracy_score(y_gt_dataset_ind, y_pred_adv_pgd_logit)\n",
    "recall = recall_score(y_gt_dataset_ind, y_pred_adv_pgd_logit, average='binary')  # Adjust `average` for multiclass\n",
    "precision = precision_score(y_gt_dataset_ind, y_pred_adv_pgd_logit, average='binary')\n",
    "\n",
    "print(f\"Accuracy: {accuracy:.4f}\")\n",
    "print(f\"Recall: {recall:.4f}\")\n",
    "print(f\"Precision: {precision:.4f}\")"
   ]
  },
  {
   "cell_type": "code",
   "execution_count": 114,
   "metadata": {},
   "outputs": [
    {
     "data": {
      "image/png": "[encoded data removed]",
      "text/plain": [
       "<Figure size 640x480 with 1 Axes>"
      ]
     },
     "metadata": {},
     "output_type": "display_data"
    }
   ],
   "source": [
    "cm_pgd = confusion_matrix(y_gt_dataset_ind, y_pred_adv_pgd_logit)\n",
    "sns.heatmap(cm_pgd, annot=True, fmt='d', cmap='Blues', cbar=False,\n",
    "            xticklabels=['Predicted 0', 'Predicted 1'], \n",
    "            yticklabels=['Actual 0', 'Actual 1'])\n",
    "\n",
    "plt.xlabel('Predicted')\n",
    "plt.ylabel('True')\n",
    "plt.title('Confusion Matrix')\n",
    "plt.show()"
   ]
  },
  {
   "cell_type": "code",
   "execution_count": 115,
   "metadata": {},
   "outputs": [],
   "source": [
    "X_test_adv_pgd_logit = np.concatenate((X_test_normal_adv_pgd_logit_orig, X_test_attack_adv_pgd_logit_orig))\n",
    "adv_pgd_logit_test = np.column_stack((X_test_adv_pgd_logit, y_gt_data))\n",
    "adv_pgd_logit = pd.DataFrame(adv_pgd_logit_test, columns=test.columns)"
   ]
  },
  {
   "cell_type": "code",
   "execution_count": 116,
   "metadata": {},
   "outputs": [],
   "source": [
    "adv_pgd_logit.to_csv(\"4_rf_pgd_logit_swat.csv\", index=False)"
   ]
  },
  {
   "cell_type": "code",
   "execution_count": 117,
   "metadata": {},
   "outputs": [
    {
     "name": "stdout",
     "output_type": "stream",
     "text": [
      "Total Execution Time of Attack: 47.84676265716553 seconds\n"
     ]
    }
   ],
   "source": [
    "end_time_pgd_logit = time.time()\n",
    "\n",
    "print(f\"Total Execution Time of Attack: {end_time_pgd_logit - start_time_pgd_logit} seconds\")"
   ]
  },
  {
   "cell_type": "markdown",
   "metadata": {},
   "source": [
    "## PGD-KL Divergence Attack"
   ]
  },
  {
   "cell_type": "code",
   "execution_count": 118,
   "metadata": {},
   "outputs": [],
   "source": [
    "start_time_pgd_kl = time.time()"
   ]
  },
  {
   "cell_type": "code",
   "execution_count": 119,
   "metadata": {},
   "outputs": [],
   "source": [
    "def pgd_attack_kl(model, X, epsilon=0.1, alpha=0.01, iterations=10, random_start=True):\n",
    "\n",
    "    X_adv = tf.convert_to_tensor(X, dtype=tf.float32)\n",
    "\n",
    "    original_logits = model(X_adv)  \n",
    "    original_probs = tf.nn.sigmoid(original_logits) \n",
    "    original_probs = tf.concat([1 - original_probs, original_probs], axis=1)  \n",
    "\n",
    "    if random_start:\n",
    "        X_adv = X_adv + tf.random.uniform(X_adv.shape, minval=-epsilon, maxval=epsilon)\n",
    "        X_adv = tf.clip_by_value(X_adv, 0, 1)  \n",
    "\n",
    "    for _ in range(iterations):\n",
    "        with tf.GradientTape() as tape:\n",
    "            tape.watch(X_adv)\n",
    "            perturbed_logits = model(X_adv)  \n",
    "            perturbed_probs = tf.nn.sigmoid(perturbed_logits)  \n",
    "            perturbed_probs = tf.concat([1 - perturbed_probs, perturbed_probs], axis=1) \n",
    "\n",
    "            loss = tf.keras.losses.KLDivergence()(original_probs, perturbed_probs)\n",
    "\n",
    "        gradient = tape.gradient(loss, X_adv)\n",
    "        signed_grad = tf.sign(gradient)\n",
    "\n",
    "        X_adv = X_adv + alpha * signed_grad\n",
    "\n",
    "        X_adv = tf.clip_by_value(X_adv, X - epsilon, X + epsilon)\n",
    "\n",
    "        X_adv = tf.clip_by_value(X_adv, 0, 1)\n",
    "\n",
    "    return X_adv.numpy()\n"
   ]
  },
  {
   "cell_type": "code",
   "execution_count": 120,
   "metadata": {},
   "outputs": [],
   "source": [
    "\n",
    "X_test_normal_adv_pgd_kl = pgd_attack_kl(selected_model, test_windows_normal_ind, epsilon_normal, alpha_normal_pgd, iterations)\n",
    "X_test_attack_adv_pgd_kl = pgd_attack_kl(selected_model, test_windows_attack_ind, epsilon_attack, alpha_attack_pgd, iterations)"
   ]
  },
  {
   "cell_type": "code",
   "execution_count": 121,
   "metadata": {},
   "outputs": [],
   "source": [
    "X_test_normal_adv_pgd_kl_reshaped = X_test_normal_adv_pgd_kl.reshape(-1, NUM_FEATURES)\n",
    "X_test_attack_adv_pgd_kl_reshaped = X_test_attack_adv_pgd_kl.reshape(-1, NUM_FEATURES)"
   ]
  },
  {
   "cell_type": "code",
   "execution_count": 122,
   "metadata": {},
   "outputs": [],
   "source": [
    "X_test_normal_adv_pgd_kl_orig = scaler.inverse_transform(X_test_normal_adv_pgd_kl_reshaped)\n",
    "X_test_attack_adv_pgd_kl_orig = scaler.inverse_transform(X_test_attack_adv_pgd_kl_reshaped)"
   ]
  },
  {
   "cell_type": "code",
   "execution_count": 123,
   "metadata": {},
   "outputs": [],
   "source": [
    "X_test_normal_adv_pgd_kl_orig[:, protected_cols] = np.round(X_test_normal_adv_pgd_kl_orig[:, protected_cols], decimals=0)\n",
    "X_test_attack_adv_pgd_kl_orig[:, protected_cols] = np.round(X_test_attack_adv_pgd_kl_orig[:, protected_cols], decimals=0)"
   ]
  },
  {
   "cell_type": "code",
   "execution_count": 124,
   "metadata": {},
   "outputs": [],
   "source": [
    "y_pred_normal_adv_pgd_kl = model.predict(X_test_normal_adv_pgd_kl_orig)\n",
    "y_pred_attack_adv_pgd_kl = model.predict(X_test_attack_adv_pgd_kl_orig)"
   ]
  },
  {
   "cell_type": "code",
   "execution_count": 125,
   "metadata": {},
   "outputs": [
    {
     "name": "stdout",
     "output_type": "stream",
     "text": [
      "PGD-KL Div Attack Performance on NIDS\n",
      "Accuracy: 0.6311\n",
      "Recall: 0.7111\n",
      "Precision: 0.2055\n"
     ]
    }
   ],
   "source": [
    "y_pred_adv_pgd_kl = np.concatenate((y_pred_normal_adv_pgd_kl, y_pred_attack_adv_pgd_kl))\n",
    "print(\"PGD-KL Div Attack Performance on NIDS\")\n",
    "accuracy = accuracy_score(y_gt_dataset_ind, y_pred_adv_pgd_kl)\n",
    "recall = recall_score(y_gt_dataset_ind, y_pred_adv_pgd_kl, average='binary')  # Adjust `average` for multiclass\n",
    "precision = precision_score(y_gt_dataset_ind, y_pred_adv_pgd_kl, average='binary')\n",
    "\n",
    "print(f\"Accuracy: {accuracy:.4f}\")\n",
    "print(f\"Recall: {recall:.4f}\")\n",
    "print(f\"Precision: {precision:.4f}\")"
   ]
  },
  {
   "cell_type": "code",
   "execution_count": 126,
   "metadata": {},
   "outputs": [
    {
     "data": {
      "image/png": "[encoded data removed]",
      "text/plain": [
       "<Figure size 640x480 with 1 Axes>"
      ]
     },
     "metadata": {},
     "output_type": "display_data"
    }
   ],
   "source": [
    "cm_pgd = confusion_matrix(y_gt_dataset_ind, y_pred_adv_pgd_kl)\n",
    "sns.heatmap(cm_pgd, annot=True, fmt='d', cmap='Blues', cbar=False,\n",
    "            xticklabels=['Predicted 0', 'Predicted 1'], \n",
    "            yticklabels=['Actual 0', 'Actual 1'])\n",
    "\n",
    "plt.xlabel('Predicted')\n",
    "plt.ylabel('True')\n",
    "plt.title('Confusion Matrix')\n",
    "plt.show()"
   ]
  },
  {
   "cell_type": "code",
   "execution_count": 127,
   "metadata": {},
   "outputs": [],
   "source": [
    "X_test_adv_pgd_kl = np.concatenate((X_test_normal_adv_pgd_kl_orig, X_test_attack_adv_pgd_kl_orig))\n",
    "adv_pgd_kl_test = np.column_stack((X_test_adv_pgd_kl, y_gt_data))\n",
    "adv_pgd_kl = pd.DataFrame(adv_pgd_kl_test, columns=test.columns)"
   ]
  },
  {
   "cell_type": "code",
   "execution_count": 128,
   "metadata": {},
   "outputs": [],
   "source": [
    "adv_pgd_kl.to_csv(\"4_rf_pgd_kl_swat.csv\", index=False)"
   ]
  },
  {
   "cell_type": "code",
   "execution_count": 129,
   "metadata": {},
   "outputs": [
    {
     "name": "stdout",
     "output_type": "stream",
     "text": [
      "Total Execution Time of Attack: 48.316643714904785 seconds\n"
     ]
    }
   ],
   "source": [
    "end_time_pgd_kl = time.time()\n",
    "print(f\"Total Execution Time of Attack: {end_time_pgd_kl - start_time_pgd_kl} seconds\")"
   ]
  },
  {
   "cell_type": "markdown",
   "metadata": {},
   "source": [
    "## CorrShift Attack (Correlation-Driven Feature Shift Attack)"
   ]
  },
  {
   "cell_type": "code",
   "execution_count": 130,
   "metadata": {},
   "outputs": [],
   "source": [
    "start_time_sq = time.time()"
   ]
  },
  {
   "cell_type": "code",
   "execution_count": 131,
   "metadata": {},
   "outputs": [],
   "source": [
    "class AdversarialExampleGenerator:\n",
    "    def __init__(self, model, alpha):\n",
    "        self.model = model  \n",
    "        self.alpha = alpha \n",
    "        self.epsilon = None  \n",
    "\n",
    "    def compute_featurewise_epsilon(self, X):\n",
    "        \n",
    "        max_values = np.max(np.abs(X), axis=(0, 1))  \n",
    "        min_values = np.min(np.abs(X), axis=(0, 1))  \n",
    "        self.epsilon = self.alpha * (max_values - min_values) \n",
    "\n",
    "    def apply_perturbation(self, X, y, protected_cols):\n",
    "        \n",
    "        num_samples, num_rows, num_features = X.shape\n",
    "\n",
    "        self.compute_featurewise_epsilon(X)\n",
    "\n",
    "        non_protected_cols = [i for i in range(num_features) if i not in protected_cols]\n",
    "\n",
    "\n",
    "        flattened_data = X.reshape(-1, num_features)  \n",
    "        corr_matrix = np.corrcoef(flattened_data, rowvar=False)  \n",
    "\n",
    "        max_diff = -1\n",
    "        best_adv_examples = None\n",
    "\n",
    "        all_adv_examples = np.zeros_like(X)\n",
    "\n",
    "        for sample_idx in range(num_samples):\n",
    "            original_sample = X[sample_idx].copy() \n",
    "\n",
    "            for i, candidate_feature in enumerate(non_protected_cols):\n",
    "                adv_example = original_sample.copy() \n",
    "\n",
    "                for j, feature in enumerate(non_protected_cols):\n",
    "                    epsilon_j = self.epsilon[feature]\n",
    "                    \n",
    "                    if j == i:\n",
    "                        adv_example[:, feature] += epsilon_j\n",
    "\n",
    "\n",
    "                    if corr_matrix[i, j] < 0:\n",
    "                        adv_example[:, feature] -= epsilon_j\n",
    "                    else:\n",
    "                        adv_example[:, feature] += epsilon_j\n",
    "\n",
    "                predictions = self.model.predict(adv_example) \n",
    "\n",
    "                diff_count = np.sum(predictions != y[sample_idx])  \n",
    "\n",
    "                if diff_count > max_diff:\n",
    "                    max_diff = diff_count\n",
    "                    best_adv_examples = adv_example\n",
    "\n",
    "            all_adv_examples[sample_idx] = best_adv_examples\n",
    "\n",
    "        return all_adv_examples \n"
   ]
  },
  {
   "cell_type": "code",
   "execution_count": 132,
   "metadata": {},
   "outputs": [],
   "source": [
    "num_windows1 = len(X_dataset_normal_orig) // TIMESTEPS  \n",
    "X_test_windows1 = np.array([X_dataset_normal_orig[i * TIMESTEPS:(i + 1) * TIMESTEPS] for i in range(num_windows1)])\n",
    "\n",
    "num_windows2 = len(X_dataset_attack_orig) // TIMESTEPS  \n",
    "X_test_windows2 = np.array([X_dataset_attack_orig[i * TIMESTEPS:(i + 1) * TIMESTEPS] for i in range(num_windows2)])"
   ]
  },
  {
   "cell_type": "code",
   "execution_count": 133,
   "metadata": {},
   "outputs": [],
   "source": [
    "M_dim = int((TIMESTEPS - L)/S + 1)\n",
    "\n",
    "y_test1 = np.zeros((num_windows1, M_dim))\n",
    "y_test2 = np.ones((num_windows2, M_dim))"
   ]
  },
  {
   "cell_type": "code",
   "execution_count": 134,
   "metadata": {},
   "outputs": [
    {
     "name": "stderr",
     "output_type": "stream",
     "text": [
      "/home/advmlstudent/Documents/benchmark/ics-nids-robustness-benchmark/myenv/lib/python3.12/site-packages/numpy/lib/function_base.py:2897: RuntimeWarning: invalid value encountered in divide\n",
      "  c /= stddev[:, None]\n",
      "/home/advmlstudent/Documents/benchmark/ics-nids-robustness-benchmark/myenv/lib/python3.12/site-packages/numpy/lib/function_base.py:2898: RuntimeWarning: invalid value encountered in divide\n",
      "  c /= stddev[None, :]\n"
     ]
    }
   ],
   "source": [
    "patch_perturbation1 = AdversarialExampleGenerator(model=model, alpha=alpha_bb_normal)\n",
    "\n",
    "perturbed_data1 = patch_perturbation1.apply_perturbation(\n",
    "    X_test_windows1,\n",
    "    y_test1,\n",
    "    protected_cols  \n",
    ")"
   ]
  },
  {
   "cell_type": "code",
   "execution_count": 135,
   "metadata": {},
   "outputs": [
    {
     "name": "stderr",
     "output_type": "stream",
     "text": [
      "/home/advmlstudent/Documents/benchmark/ics-nids-robustness-benchmark/myenv/lib/python3.12/site-packages/numpy/lib/function_base.py:2897: RuntimeWarning: invalid value encountered in divide\n",
      "  c /= stddev[:, None]\n",
      "/home/advmlstudent/Documents/benchmark/ics-nids-robustness-benchmark/myenv/lib/python3.12/site-packages/numpy/lib/function_base.py:2898: RuntimeWarning: invalid value encountered in divide\n",
      "  c /= stddev[None, :]\n"
     ]
    }
   ],
   "source": [
    "patch_perturbation2 = AdversarialExampleGenerator(model=model, alpha=alpha_bb_attack)\n",
    "\n",
    "perturbed_data2 = patch_perturbation2.apply_perturbation(\n",
    "    X_test_windows2,\n",
    "    y_test2,\n",
    "    protected_cols  \n",
    ")"
   ]
  },
  {
   "cell_type": "code",
   "execution_count": 136,
   "metadata": {},
   "outputs": [],
   "source": [
    "original_shape1 = X_test_windows1.shape[0] * X_test_windows1.shape[1], X_test_windows1.shape[2]\n",
    "X_adv_bb1 = perturbed_data1.reshape(original_shape1)\n",
    "y_bb_1 = np.zeros(int((original_shape1[0]-L)/S + 1))\n",
    "y1 = np.zeros(original_shape1[0])\n",
    "\n",
    "original_shape2 = X_test_windows2.shape[0] * X_test_windows2.shape[1], X_test_windows2.shape[2]\n",
    "X_adv_bb2 = perturbed_data2.reshape(original_shape2)\n",
    "y_bb_2 = np.ones(int((original_shape2[0]-L)/S + 1))\n",
    "y2 = np.ones(original_shape2[0])"
   ]
  },
  {
   "cell_type": "code",
   "execution_count": 137,
   "metadata": {},
   "outputs": [],
   "source": [
    "y_pred_bb_normal = model.predict(X_adv_bb1)\n",
    "y_pred_bb_attack = model.predict(X_adv_bb2)"
   ]
  },
  {
   "cell_type": "code",
   "execution_count": 138,
   "metadata": {},
   "outputs": [
    {
     "name": "stdout",
     "output_type": "stream",
     "text": [
      "CorrShift Attack Performance on NIDS\n",
      "Accuracy: 0.0000\n",
      "Recall: 0.0000\n",
      "Precision: 0.0000\n"
     ]
    }
   ],
   "source": [
    "y_pred_bb = np.concatenate((y_pred_bb_normal, y_pred_bb_attack))\n",
    "y_gt = np.concatenate((y_bb_1, y_bb_2))\n",
    "print(\"CorrShift Attack Performance on NIDS\")\n",
    "accuracy = accuracy_score(y_gt, y_pred_bb)\n",
    "recall = recall_score(y_gt, y_pred_bb, average='binary') \n",
    "precision = precision_score(y_gt, y_pred_bb, average='binary')\n",
    "\n",
    "print(f\"Accuracy: {accuracy:.4f}\")\n",
    "print(f\"Recall: {recall:.4f}\")\n",
    "print(f\"Precision: {precision:.4f}\")"
   ]
  },
  {
   "cell_type": "code",
   "execution_count": 139,
   "metadata": {},
   "outputs": [
    {
     "data": {
      "image/png": "[encoded data removed]",
      "text/plain": [
       "<Figure size 640x480 with 1 Axes>"
      ]
     },
     "metadata": {},
     "output_type": "display_data"
    }
   ],
   "source": [
    "cm_bb = confusion_matrix(y_gt, y_pred_bb)\n",
    "sns.heatmap(cm_bb, annot=True, fmt='d', cmap='Blues', cbar=False,\n",
    "            xticklabels=['Predicted 0', 'Predicted 1'], \n",
    "            yticklabels=['Actual 0', 'Actual 1'])\n",
    "\n",
    "plt.xlabel('Predicted')\n",
    "plt.ylabel('True')\n",
    "plt.title('Confusion Matrix')\n",
    "plt.show()"
   ]
  },
  {
   "cell_type": "code",
   "execution_count": 140,
   "metadata": {},
   "outputs": [],
   "source": [
    "X_test_adv_corr = np.concatenate((X_adv_bb1, X_adv_bb2))\n",
    "y_corr = np.concatenate((y1, y2))\n",
    "adv_corr_test = np.column_stack((X_test_adv_corr, y_corr))\n",
    "adv_corr = pd.DataFrame(adv_corr_test, columns=test.columns)"
   ]
  },
  {
   "cell_type": "code",
   "execution_count": 141,
   "metadata": {},
   "outputs": [],
   "source": [
    "adv_corr.to_csv(\"4_rf_corr_swat.csv\", index=False)"
   ]
  },
  {
   "cell_type": "code",
   "execution_count": 142,
   "metadata": {},
   "outputs": [
    {
     "name": "stdout",
     "output_type": "stream",
     "text": [
      "Total Execution Time of Attack: 1542.886509180069 seconds\n"
     ]
    }
   ],
   "source": [
    "end_time_sq = time.time()\n",
    "print(f\"Total Execution Time of Attack: {end_time_sq - start_time_sq} seconds\")"
   ]
  },
  {
   "cell_type": "code",
   "execution_count": 143,
   "metadata": {},
   "outputs": [
    {
     "name": "stdout",
     "output_type": "stream",
     "text": [
      "Total Execution Time of Framework: 2477.5686519145966 seconds\n"
     ]
    }
   ],
   "source": [
    "end_time = time.time()\n",
    "\n",
    "print(f\"Total Execution Time of Framework: {end_time - start_time} seconds\")"
   ]
  }
 ],
 "metadata": {
  "kernelspec": {
   "display_name": "myenv",
   "language": "python",
   "name": "python3"
  },
  "language_info": {
   "codemirror_mode": {
    "name": "ipython",
    "version": 3
   },
   "file_extension": ".py",
   "mimetype": "text/x-python",
   "name": "python",
   "nbconvert_exporter": "python",
   "pygments_lexer": "ipython3",
   "version": "3.12.3"
  }
 },
 "nbformat": 4,
 "nbformat_minor": 2
}
